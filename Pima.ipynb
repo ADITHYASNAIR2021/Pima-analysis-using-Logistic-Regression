{
  "cells": [
    {
      "cell_type": "markdown",
      "source": [
        "# Data processing "
      ],
      "metadata": {
        "id": "92APWG15njXO"
      }
    },
    {
      "cell_type": "markdown",
      "source": [
        "# Importing Libraries "
      ],
      "metadata": {
        "id": "Xiy1VcElLplZ"
      }
    },
    {
      "cell_type": "code",
      "execution_count": 51,
      "metadata": {
        "id": "ML9hoG3t8FXa",
        "colab": {
          "base_uri": "https://localhost:8080/"
        },
        "outputId": "313e487a-9bf2-4109-841a-082b476f8bcd"
      },
      "outputs": [
        {
          "output_type": "stream",
          "name": "stdout",
          "text": [
            "Requirement already satisfied: numpy in /usr/local/lib/python3.7/dist-packages (1.19.5)\n",
            "Requirement already satisfied: pandas in /usr/local/lib/python3.7/dist-packages (1.1.5)\n",
            "Requirement already satisfied: numpy>=1.15.4 in /usr/local/lib/python3.7/dist-packages (from pandas) (1.19.5)\n",
            "Requirement already satisfied: pytz>=2017.2 in /usr/local/lib/python3.7/dist-packages (from pandas) (2018.9)\n",
            "Requirement already satisfied: python-dateutil>=2.7.3 in /usr/local/lib/python3.7/dist-packages (from pandas) (2.8.2)\n",
            "Requirement already satisfied: six>=1.5 in /usr/local/lib/python3.7/dist-packages (from python-dateutil>=2.7.3->pandas) (1.15.0)\n",
            "Requirement already satisfied: matplotlib in /usr/local/lib/python3.7/dist-packages (3.2.2)\n",
            "Requirement already satisfied: python-dateutil>=2.1 in /usr/local/lib/python3.7/dist-packages (from matplotlib) (2.8.2)\n",
            "Requirement already satisfied: numpy>=1.11 in /usr/local/lib/python3.7/dist-packages (from matplotlib) (1.19.5)\n",
            "Requirement already satisfied: cycler>=0.10 in /usr/local/lib/python3.7/dist-packages (from matplotlib) (0.11.0)\n",
            "Requirement already satisfied: kiwisolver>=1.0.1 in /usr/local/lib/python3.7/dist-packages (from matplotlib) (1.3.2)\n",
            "Requirement already satisfied: pyparsing!=2.0.4,!=2.1.2,!=2.1.6,>=2.0.1 in /usr/local/lib/python3.7/dist-packages (from matplotlib) (3.0.6)\n",
            "Requirement already satisfied: six>=1.5 in /usr/local/lib/python3.7/dist-packages (from python-dateutil>=2.1->matplotlib) (1.15.0)\n",
            "Requirement already satisfied: sklearn in /usr/local/lib/python3.7/dist-packages (0.0)\n",
            "Requirement already satisfied: scikit-learn in /usr/local/lib/python3.7/dist-packages (from sklearn) (1.0.2)\n",
            "Requirement already satisfied: threadpoolctl>=2.0.0 in /usr/local/lib/python3.7/dist-packages (from scikit-learn->sklearn) (3.0.0)\n",
            "Requirement already satisfied: numpy>=1.14.6 in /usr/local/lib/python3.7/dist-packages (from scikit-learn->sklearn) (1.19.5)\n",
            "Requirement already satisfied: scipy>=1.1.0 in /usr/local/lib/python3.7/dist-packages (from scikit-learn->sklearn) (1.4.1)\n",
            "Requirement already satisfied: joblib>=0.11 in /usr/local/lib/python3.7/dist-packages (from scikit-learn->sklearn) (1.1.0)\n",
            "Requirement already satisfied: seaborn in /usr/local/lib/python3.7/dist-packages (0.11.2)\n",
            "Requirement already satisfied: scipy>=1.0 in /usr/local/lib/python3.7/dist-packages (from seaborn) (1.4.1)\n",
            "Requirement already satisfied: matplotlib>=2.2 in /usr/local/lib/python3.7/dist-packages (from seaborn) (3.2.2)\n",
            "Requirement already satisfied: numpy>=1.15 in /usr/local/lib/python3.7/dist-packages (from seaborn) (1.19.5)\n",
            "Requirement already satisfied: pandas>=0.23 in /usr/local/lib/python3.7/dist-packages (from seaborn) (1.1.5)\n",
            "Requirement already satisfied: pyparsing!=2.0.4,!=2.1.2,!=2.1.6,>=2.0.1 in /usr/local/lib/python3.7/dist-packages (from matplotlib>=2.2->seaborn) (3.0.6)\n",
            "Requirement already satisfied: kiwisolver>=1.0.1 in /usr/local/lib/python3.7/dist-packages (from matplotlib>=2.2->seaborn) (1.3.2)\n",
            "Requirement already satisfied: cycler>=0.10 in /usr/local/lib/python3.7/dist-packages (from matplotlib>=2.2->seaborn) (0.11.0)\n",
            "Requirement already satisfied: python-dateutil>=2.1 in /usr/local/lib/python3.7/dist-packages (from matplotlib>=2.2->seaborn) (2.8.2)\n",
            "Requirement already satisfied: pytz>=2017.2 in /usr/local/lib/python3.7/dist-packages (from pandas>=0.23->seaborn) (2018.9)\n",
            "Requirement already satisfied: six>=1.5 in /usr/local/lib/python3.7/dist-packages (from python-dateutil>=2.1->matplotlib>=2.2->seaborn) (1.15.0)\n"
          ]
        }
      ],
      "source": [
        "%pip install numpy\n",
        "%pip install pandas \n",
        "%pip install matplotlib\n",
        "%pip install sklearn\n",
        "%pip install seaborn\n",
        "import numpy as np # linear algebra\n",
        "import pandas as pd # data processing, CSV file I/O (e.g. pd.read_csv)\n",
        "import matplotlib.pyplot as plt\n",
        "from sklearn.model_selection import train_test_split\n",
        "from sklearn.linear_model import LogisticRegression\n",
        "from sklearn.metrics import classification_report\n",
        "from sklearn.metrics import confusion_matrix\n",
        "from sklearn.metrics import accuracy_score\n",
        "import seaborn as sns\n",
        "from sklearn.model_selection import cross_val_score\n"
      ]
    },
    {
      "cell_type": "markdown",
      "source": [
        "Loading of data to workspace ."
      ],
      "metadata": {
        "id": "nOZElBGOL1OS"
      }
    },
    {
      "cell_type": "code",
      "execution_count": 52,
      "metadata": {
        "id": "oqzHl9Pl8FXl",
        "colab": {
          "base_uri": "https://localhost:8080/",
          "height": 363
        },
        "outputId": "9c4375c8-73a6-48d1-cafc-b199c228f46a"
      },
      "outputs": [
        {
          "output_type": "execute_result",
          "data": {
            "text/html": [
              "\n",
              "  <div id=\"df-4bc0c9ca-a1d6-4d28-a5aa-e3eb9d596dc7\">\n",
              "    <div class=\"colab-df-container\">\n",
              "      <div>\n",
              "<style scoped>\n",
              "    .dataframe tbody tr th:only-of-type {\n",
              "        vertical-align: middle;\n",
              "    }\n",
              "\n",
              "    .dataframe tbody tr th {\n",
              "        vertical-align: top;\n",
              "    }\n",
              "\n",
              "    .dataframe thead th {\n",
              "        text-align: right;\n",
              "    }\n",
              "</style>\n",
              "<table border=\"1\" class=\"dataframe\">\n",
              "  <thead>\n",
              "    <tr style=\"text-align: right;\">\n",
              "      <th></th>\n",
              "      <th>Pregnancies</th>\n",
              "      <th>Glucose</th>\n",
              "      <th>BloodPressure</th>\n",
              "      <th>SkinThickness</th>\n",
              "      <th>Insulin</th>\n",
              "      <th>BMI</th>\n",
              "      <th>DiabetesPedigreeFunction</th>\n",
              "      <th>Age</th>\n",
              "      <th>Outcome</th>\n",
              "    </tr>\n",
              "  </thead>\n",
              "  <tbody>\n",
              "    <tr>\n",
              "      <th>0</th>\n",
              "      <td>6</td>\n",
              "      <td>148</td>\n",
              "      <td>72</td>\n",
              "      <td>35</td>\n",
              "      <td>0</td>\n",
              "      <td>33.6</td>\n",
              "      <td>0.627</td>\n",
              "      <td>50</td>\n",
              "      <td>1</td>\n",
              "    </tr>\n",
              "    <tr>\n",
              "      <th>1</th>\n",
              "      <td>1</td>\n",
              "      <td>85</td>\n",
              "      <td>66</td>\n",
              "      <td>29</td>\n",
              "      <td>0</td>\n",
              "      <td>26.6</td>\n",
              "      <td>0.351</td>\n",
              "      <td>31</td>\n",
              "      <td>0</td>\n",
              "    </tr>\n",
              "    <tr>\n",
              "      <th>2</th>\n",
              "      <td>8</td>\n",
              "      <td>183</td>\n",
              "      <td>64</td>\n",
              "      <td>0</td>\n",
              "      <td>0</td>\n",
              "      <td>23.3</td>\n",
              "      <td>0.672</td>\n",
              "      <td>32</td>\n",
              "      <td>1</td>\n",
              "    </tr>\n",
              "    <tr>\n",
              "      <th>3</th>\n",
              "      <td>1</td>\n",
              "      <td>89</td>\n",
              "      <td>66</td>\n",
              "      <td>23</td>\n",
              "      <td>94</td>\n",
              "      <td>28.1</td>\n",
              "      <td>0.167</td>\n",
              "      <td>21</td>\n",
              "      <td>0</td>\n",
              "    </tr>\n",
              "    <tr>\n",
              "      <th>4</th>\n",
              "      <td>0</td>\n",
              "      <td>137</td>\n",
              "      <td>40</td>\n",
              "      <td>35</td>\n",
              "      <td>168</td>\n",
              "      <td>43.1</td>\n",
              "      <td>2.288</td>\n",
              "      <td>33</td>\n",
              "      <td>1</td>\n",
              "    </tr>\n",
              "    <tr>\n",
              "      <th>5</th>\n",
              "      <td>5</td>\n",
              "      <td>116</td>\n",
              "      <td>74</td>\n",
              "      <td>0</td>\n",
              "      <td>0</td>\n",
              "      <td>25.6</td>\n",
              "      <td>0.201</td>\n",
              "      <td>30</td>\n",
              "      <td>0</td>\n",
              "    </tr>\n",
              "    <tr>\n",
              "      <th>6</th>\n",
              "      <td>3</td>\n",
              "      <td>78</td>\n",
              "      <td>50</td>\n",
              "      <td>32</td>\n",
              "      <td>88</td>\n",
              "      <td>31.0</td>\n",
              "      <td>0.248</td>\n",
              "      <td>26</td>\n",
              "      <td>1</td>\n",
              "    </tr>\n",
              "    <tr>\n",
              "      <th>7</th>\n",
              "      <td>10</td>\n",
              "      <td>115</td>\n",
              "      <td>0</td>\n",
              "      <td>0</td>\n",
              "      <td>0</td>\n",
              "      <td>35.3</td>\n",
              "      <td>0.134</td>\n",
              "      <td>29</td>\n",
              "      <td>0</td>\n",
              "    </tr>\n",
              "    <tr>\n",
              "      <th>8</th>\n",
              "      <td>2</td>\n",
              "      <td>197</td>\n",
              "      <td>70</td>\n",
              "      <td>45</td>\n",
              "      <td>543</td>\n",
              "      <td>30.5</td>\n",
              "      <td>0.158</td>\n",
              "      <td>53</td>\n",
              "      <td>1</td>\n",
              "    </tr>\n",
              "    <tr>\n",
              "      <th>9</th>\n",
              "      <td>8</td>\n",
              "      <td>125</td>\n",
              "      <td>96</td>\n",
              "      <td>0</td>\n",
              "      <td>0</td>\n",
              "      <td>0.0</td>\n",
              "      <td>0.232</td>\n",
              "      <td>54</td>\n",
              "      <td>1</td>\n",
              "    </tr>\n",
              "  </tbody>\n",
              "</table>\n",
              "</div>\n",
              "      <button class=\"colab-df-convert\" onclick=\"convertToInteractive('df-4bc0c9ca-a1d6-4d28-a5aa-e3eb9d596dc7')\"\n",
              "              title=\"Convert this dataframe to an interactive table.\"\n",
              "              style=\"display:none;\">\n",
              "        \n",
              "  <svg xmlns=\"http://www.w3.org/2000/svg\" height=\"24px\"viewBox=\"0 0 24 24\"\n",
              "       width=\"24px\">\n",
              "    <path d=\"M0 0h24v24H0V0z\" fill=\"none\"/>\n",
              "    <path d=\"M18.56 5.44l.94 2.06.94-2.06 2.06-.94-2.06-.94-.94-2.06-.94 2.06-2.06.94zm-11 1L8.5 8.5l.94-2.06 2.06-.94-2.06-.94L8.5 2.5l-.94 2.06-2.06.94zm10 10l.94 2.06.94-2.06 2.06-.94-2.06-.94-.94-2.06-.94 2.06-2.06.94z\"/><path d=\"M17.41 7.96l-1.37-1.37c-.4-.4-.92-.59-1.43-.59-.52 0-1.04.2-1.43.59L10.3 9.45l-7.72 7.72c-.78.78-.78 2.05 0 2.83L4 21.41c.39.39.9.59 1.41.59.51 0 1.02-.2 1.41-.59l7.78-7.78 2.81-2.81c.8-.78.8-2.07 0-2.86zM5.41 20L4 18.59l7.72-7.72 1.47 1.35L5.41 20z\"/>\n",
              "  </svg>\n",
              "      </button>\n",
              "      \n",
              "  <style>\n",
              "    .colab-df-container {\n",
              "      display:flex;\n",
              "      flex-wrap:wrap;\n",
              "      gap: 12px;\n",
              "    }\n",
              "\n",
              "    .colab-df-convert {\n",
              "      background-color: #E8F0FE;\n",
              "      border: none;\n",
              "      border-radius: 50%;\n",
              "      cursor: pointer;\n",
              "      display: none;\n",
              "      fill: #1967D2;\n",
              "      height: 32px;\n",
              "      padding: 0 0 0 0;\n",
              "      width: 32px;\n",
              "    }\n",
              "\n",
              "    .colab-df-convert:hover {\n",
              "      background-color: #E2EBFA;\n",
              "      box-shadow: 0px 1px 2px rgba(60, 64, 67, 0.3), 0px 1px 3px 1px rgba(60, 64, 67, 0.15);\n",
              "      fill: #174EA6;\n",
              "    }\n",
              "\n",
              "    [theme=dark] .colab-df-convert {\n",
              "      background-color: #3B4455;\n",
              "      fill: #D2E3FC;\n",
              "    }\n",
              "\n",
              "    [theme=dark] .colab-df-convert:hover {\n",
              "      background-color: #434B5C;\n",
              "      box-shadow: 0px 1px 3px 1px rgba(0, 0, 0, 0.15);\n",
              "      filter: drop-shadow(0px 1px 2px rgba(0, 0, 0, 0.3));\n",
              "      fill: #FFFFFF;\n",
              "    }\n",
              "  </style>\n",
              "\n",
              "      <script>\n",
              "        const buttonEl =\n",
              "          document.querySelector('#df-4bc0c9ca-a1d6-4d28-a5aa-e3eb9d596dc7 button.colab-df-convert');\n",
              "        buttonEl.style.display =\n",
              "          google.colab.kernel.accessAllowed ? 'block' : 'none';\n",
              "\n",
              "        async function convertToInteractive(key) {\n",
              "          const element = document.querySelector('#df-4bc0c9ca-a1d6-4d28-a5aa-e3eb9d596dc7');\n",
              "          const dataTable =\n",
              "            await google.colab.kernel.invokeFunction('convertToInteractive',\n",
              "                                                     [key], {});\n",
              "          if (!dataTable) return;\n",
              "\n",
              "          const docLinkHtml = 'Like what you see? Visit the ' +\n",
              "            '<a target=\"_blank\" href=https://colab.research.google.com/notebooks/data_table.ipynb>data table notebook</a>'\n",
              "            + ' to learn more about interactive tables.';\n",
              "          element.innerHTML = '';\n",
              "          dataTable['output_type'] = 'display_data';\n",
              "          await google.colab.output.renderOutput(dataTable, element);\n",
              "          const docLink = document.createElement('div');\n",
              "          docLink.innerHTML = docLinkHtml;\n",
              "          element.appendChild(docLink);\n",
              "        }\n",
              "      </script>\n",
              "    </div>\n",
              "  </div>\n",
              "  "
            ],
            "text/plain": [
              "   Pregnancies  Glucose  BloodPressure  ...  DiabetesPedigreeFunction  Age  Outcome\n",
              "0            6      148             72  ...                     0.627   50        1\n",
              "1            1       85             66  ...                     0.351   31        0\n",
              "2            8      183             64  ...                     0.672   32        1\n",
              "3            1       89             66  ...                     0.167   21        0\n",
              "4            0      137             40  ...                     2.288   33        1\n",
              "5            5      116             74  ...                     0.201   30        0\n",
              "6            3       78             50  ...                     0.248   26        1\n",
              "7           10      115              0  ...                     0.134   29        0\n",
              "8            2      197             70  ...                     0.158   53        1\n",
              "9            8      125             96  ...                     0.232   54        1\n",
              "\n",
              "[10 rows x 9 columns]"
            ]
          },
          "metadata": {},
          "execution_count": 52
        }
      ],
      "source": [
        "url=\"https://raw.githubusercontent.com/ADITHYASNAIR2021/Diabetes-Dataset-/main/diabetes.csv\"\n",
        "diabetes_df = pd.read_csv(url)\n",
        "diabetes_df.head(10)"
      ]
    },
    {
      "cell_type": "code",
      "execution_count": 53,
      "metadata": {
        "id": "ZbgCbk3P8FXm",
        "colab": {
          "base_uri": "https://localhost:8080/"
        },
        "outputId": "08a361f5-f296-4c2b-cd71-96c2af3f4efc"
      },
      "outputs": [
        {
          "output_type": "execute_result",
          "data": {
            "text/plain": [
              "(768, 9)"
            ]
          },
          "metadata": {},
          "execution_count": 53
        }
      ],
      "source": [
        "# Check dimension of the DataFrame\n",
        "diabetes_df.shape"
      ]
    },
    {
      "cell_type": "code",
      "source": [
        "# Check the mean of the values \n",
        "diabetes_df.mean()"
      ],
      "metadata": {
        "colab": {
          "base_uri": "https://localhost:8080/"
        },
        "id": "BN9lKZ-Yo2pM",
        "outputId": "fa24a7af-a977-4a0f-ebaa-b4a5ab177832"
      },
      "execution_count": 54,
      "outputs": [
        {
          "output_type": "execute_result",
          "data": {
            "text/plain": [
              "Pregnancies                   3.845052\n",
              "Glucose                     120.894531\n",
              "BloodPressure                69.105469\n",
              "SkinThickness                20.536458\n",
              "Insulin                      79.799479\n",
              "BMI                          31.992578\n",
              "DiabetesPedigreeFunction      0.471876\n",
              "Age                          33.240885\n",
              "Outcome                       0.348958\n",
              "dtype: float64"
            ]
          },
          "metadata": {},
          "execution_count": 54
        }
      ]
    },
    {
      "cell_type": "code",
      "execution_count": 55,
      "metadata": {
        "id": "MOpIqwac8FXn",
        "colab": {
          "base_uri": "https://localhost:8080/"
        },
        "outputId": "f22172d5-85e7-4f85-d7fc-74291de8aafa"
      },
      "outputs": [
        {
          "output_type": "execute_result",
          "data": {
            "text/plain": [
              "RangeIndex(start=0, stop=768, step=1)"
            ]
          },
          "metadata": {},
          "execution_count": 55
        }
      ],
      "source": [
        "#get row index\n",
        "diabetes_df_row_idx = diabetes_df.index\n",
        "diabetes_df_row_idx"
      ]
    },
    {
      "cell_type": "code",
      "execution_count": 56,
      "metadata": {
        "id": "kEgomXWD8FXo",
        "colab": {
          "base_uri": "https://localhost:8080/"
        },
        "outputId": "e0a2676b-a51c-4bfb-f904-23b439f04ad7"
      },
      "outputs": [
        {
          "output_type": "execute_result",
          "data": {
            "text/plain": [
              "Index(['Pregnancies', 'Glucose', 'BloodPressure', 'SkinThickness', 'Insulin',\n",
              "       'BMI', 'DiabetesPedigreeFunction', 'Age', 'Outcome'],\n",
              "      dtype='object')"
            ]
          },
          "metadata": {},
          "execution_count": 56
        }
      ],
      "source": [
        "# Get the column names \n",
        "diabetes_df_col_idx = diabetes_df.columns\n",
        "diabetes_df_col_idx"
      ]
    },
    {
      "cell_type": "code",
      "execution_count": 57,
      "metadata": {
        "id": "B9ULpPqA8FXp",
        "colab": {
          "base_uri": "https://localhost:8080/"
        },
        "outputId": "0e0ea14c-23ad-4f05-ef38-a3c72cb6c623"
      },
      "outputs": [
        {
          "output_type": "execute_result",
          "data": {
            "text/plain": [
              "Pregnancies                   int64\n",
              "Glucose                       int64\n",
              "BloodPressure                 int64\n",
              "SkinThickness                 int64\n",
              "Insulin                       int64\n",
              "BMI                         float64\n",
              "DiabetesPedigreeFunction    float64\n",
              "Age                           int64\n",
              "Outcome                       int64\n",
              "dtype: object"
            ]
          },
          "metadata": {},
          "execution_count": 57
        }
      ],
      "source": [
        "#defining the data types \n",
        "diabetes_df.dtypes"
      ]
    },
    {
      "cell_type": "code",
      "execution_count": 58,
      "metadata": {
        "id": "Rd1OZJkM8FXr",
        "colab": {
          "base_uri": "https://localhost:8080/",
          "height": 879
        },
        "outputId": "7d7b19d0-21d9-40f2-9e55-87e74431771c"
      },
      "outputs": [
        {
          "output_type": "display_data",
          "data": {
            "image/png": "[encoded data removed]",
            "text/plain": [
              "<Figure size 1440x1080 with 9 Axes>"
            ]
          },
          "metadata": {
            "needs_background": "light"
          }
        }
      ],
      "source": [
        "# Histogram\n",
        "diabetes_df.hist(bins=50, figsize=(20, 15))\n",
        "plt.show()"
      ]
    },
    {
      "cell_type": "code",
      "execution_count": 59,
      "metadata": {
        "id": "_wLBq6Oq8FXx",
        "colab": {
          "base_uri": "https://localhost:8080/"
        },
        "outputId": "e2b28038-faf9-4d40-f33f-4dd6e2600a7a"
      },
      "outputs": [
        {
          "output_type": "stream",
          "name": "stdout",
          "text": [
            "How many null values in the dataset?: 0\n"
          ]
        }
      ],
      "source": [
        "#printing\n",
        "print(\"How many null values in the dataset?:\",diabetes_df.isnull().any().sum())"
      ]
    },
    {
      "cell_type": "code",
      "execution_count": 60,
      "metadata": {
        "id": "eTlwtD828FXz",
        "colab": {
          "base_uri": "https://localhost:8080/"
        },
        "outputId": "d6298220-7cd9-4fb2-f776-e170ac6a43b6"
      },
      "outputs": [
        {
          "output_type": "execute_result",
          "data": {
            "text/plain": [
              "array([[  6.   , 148.   ,  72.   , ...,   0.627,  50.   ,   1.   ],\n",
              "       [  1.   ,  85.   ,  66.   , ...,   0.351,  31.   ,   0.   ],\n",
              "       [  8.   , 183.   ,  64.   , ...,   0.672,  32.   ,   1.   ],\n",
              "       ...,\n",
              "       [  5.   , 121.   ,  72.   , ...,   0.245,  30.   ,   0.   ],\n",
              "       [  1.   , 126.   ,  60.   , ...,   0.349,  47.   ,   1.   ],\n",
              "       [  1.   ,  93.   ,  70.   , ...,   0.315,  23.   ,   0.   ]])"
            ]
          },
          "metadata": {},
          "execution_count": 60
        }
      ],
      "source": [
        "#Just take the values, ignoring the labels and index\n",
        "diabetes_df = diabetes_df.values\n",
        "diabetes_df\n"
      ]
    },
    {
      "cell_type": "code",
      "execution_count": 61,
      "metadata": {
        "id": "RkNeFeG08FX0",
        "colab": {
          "base_uri": "https://localhost:8080/"
        },
        "outputId": "3a1259be-83f0-42b0-9e6f-0a959d9fb64c"
      },
      "outputs": [
        {
          "output_type": "stream",
          "name": "stdout",
          "text": [
            "Confusion Matrix\n",
            "[[104  18]\n",
            " [ 28  42]]\n",
            "\n",
            "Classification Report\n",
            "              precision    recall  f1-score   support\n",
            "\n",
            "         0.0       0.79      0.85      0.82       122\n",
            "         1.0       0.70      0.60      0.65        70\n",
            "\n",
            "    accuracy                           0.76       192\n",
            "   macro avg       0.74      0.73      0.73       192\n",
            "weighted avg       0.76      0.76      0.76       192\n",
            "\n",
            "Logistic Regression Accuracy of Scikit Model: 76.04%\n",
            "cross validation scores : [0.86206897 0.82758621 0.86206897 0.79310345 0.75862069 0.79310345\n",
            " 0.68965517 0.75862069 0.86206897 0.82758621 0.75862069 0.72413793\n",
            " 0.75862069 0.86206897 0.75862069 0.65517241 0.75       0.67857143\n",
            " 0.82142857 0.78571429]\n",
            "Average cross validation scores :{:. 2f} 0.7793719211822661\n"
          ]
        }
      ],
      "source": [
        "X= diabetes_df[:,0:8] #Predictors\n",
        "y = diabetes_df[:,8] #Target\n",
        "\n",
        "X_train,X_test,y_train,y_test = train_test_split(X,y,test_size=.25)\n",
        "\n",
        "logistic_model = LogisticRegression(fit_intercept=True,C=1e15,solver='newton-cg',max_iter=300)\n",
        "logistic_model.fit(X_train,y_train)\n",
        "predicted = logistic_model.predict(X_test)\n",
        " \n",
        "#Confusion matrix \n",
        "\n",
        "print(\"Confusion Matrix\")\n",
        "matrix = confusion_matrix(y_test,predicted)\n",
        "print(matrix)\n",
        "\n",
        "#Classification Report\n",
        "\n",
        "print(\"\\nClassification Report\")\n",
        "report = classification_report(y_test,predicted)\n",
        "print(report)\n",
        "\n",
        "#Accuracy\n",
        "\n",
        "lr_accuracy = accuracy_score(y_test, predicted)\n",
        "print('Logistic Regression Accuracy of Scikit Model: {:.2f}%'.format(lr_accuracy*100))\n",
        "\n",
        "#Cross Validation\n",
        "\n",
        "logreg = LogisticRegression(max_iter=500)\n",
        "scores = cross_val_score(logreg , X_train , y_train , cv=20)\n",
        "print(f\"cross validation scores : {scores}\")\n",
        "print(\"Average cross validation scores :{:. 2f}\",format(scores.mean()))"
      ]
    },
    {
      "cell_type": "code",
      "execution_count": 62,
      "metadata": {
        "id": "ZbT6vjLy8FX1"
      },
      "outputs": [],
      "source": [
        "#find the mininum and maximum value of each column\n",
        "def dataset_minmax(dataset):\n",
        "    minmax = list()\n",
        "    \n",
        "    for i in range(len(dataset[0])):\n",
        "        col_values = [row[i] for row in dataset]\n",
        "        \n",
        "        value_min = min(col_values)\n",
        "        value_max = max(col_values)\n",
        "\n",
        "        minmax.append([value_min, value_max])\n",
        "    \n",
        "    return minmax\n",
        "\n",
        "#rescale the value of each column to be within 0 and 1\n",
        "def normalize_dataset(dataset, minmax):\n",
        "    for row in dataset:\n",
        "        for i in range(len(row)):\n",
        "            row[i]= (row[i]-minmax[i][0]) / (minmax[i][1]-minmax[i][0])"
      ]
    },
    {
      "cell_type": "code",
      "execution_count": 63,
      "metadata": {
        "id": "Mdo2bd8k8FX1"
      },
      "outputs": [],
      "source": [
        "#Predicts an output value for a row given a set of coefficients.\n",
        "\n",
        "def predict(row, coefficients):\n",
        "    z = coefficients[0]\n",
        "    for i in range(len(row)-1):\n",
        "        z += coefficients[i + 1] * row[i]\n",
        "    return 1.0 / (1.0 + np.exp(-z))"
      ]
    },
    {
      "cell_type": "code",
      "execution_count": 64,
      "metadata": {
        "id": "3G2Q3fMK8FX2"
      },
      "outputs": [],
      "source": [
        "# Estimate logistic regression coefficients using stochastic gradient descent\n",
        "\n",
        "def get_coefficients(train, l_rate, n_steps):\n",
        "    coef = [0.0 for i in range(len(train[0]))]\n",
        "    \n",
        "    for step in range(n_steps): #steps times\n",
        "        sum_error = 0\n",
        "\n",
        "        for row in train: #all rows\n",
        "        \n",
        "            z = predict(row, coef)\n",
        "            \n",
        "            error = row[-1] - z #z - row[-1]\n",
        "            \n",
        "            coef[0] = coef[0] + l_rate * error * z * (1.0 - z) #b0\n",
        "            \n",
        "            for i in range(len(row)-1): #each coefficient (b1,b2,b3....)\n",
        "                coef[i+1] = coef[i+1]+l_rate*error*z*(1.0-z)*row[i]\n",
        "                \n",
        "    return coef"
      ]
    },
    {
      "cell_type": "code",
      "execution_count": 65,
      "metadata": {
        "id": "JBMIBjnn8FX3"
      },
      "outputs": [],
      "source": [
        "def evaluate_model(test,coef):\n",
        "    \n",
        "    predictions = []\n",
        "    for r in test:\n",
        "        z = round(predict(r,coef))    \n",
        "        predictions.append(z)\n",
        "        \n",
        "    return(predictions)"
      ]
    },
    {
      "cell_type": "code",
      "execution_count": 66,
      "metadata": {
        "id": "nWHrVWwL8FX3"
      },
      "outputs": [],
      "source": [
        "def logistic_regression(train,test,l_rate,n_steps):    \n",
        "    \n",
        "    #get the coefficients from the training set\n",
        "    coef = get_coefficients(train,l_rate,n_steps)\n",
        "    \n",
        "    #use these to validate against the test set\n",
        "    predictions = evaluate_model(test,coef)\n",
        "    \n",
        "    return(predictions)"
      ]
    },
    {
      "cell_type": "code",
      "execution_count": 67,
      "metadata": {
        "id": "sxT8HVI88FX4"
      },
      "outputs": [],
      "source": [
        "# Calculate accuracy percentage\n",
        "def accuracy_metric(actual, predicted):\n",
        "    correct = 0\n",
        "    for i in range(len(actual)):\n",
        "        if actual[i] == predicted[i]:\n",
        "            correct += 1\n",
        "    return correct / float(len(actual))"
      ]
    },
    {
      "cell_type": "code",
      "execution_count": 68,
      "metadata": {
        "id": "ilfyBi4c8FX4",
        "colab": {
          "base_uri": "https://localhost:8080/"
        },
        "outputId": "56ff9daf-79ca-4717-efbf-f41395d0e4ac"
      },
      "outputs": [
        {
          "output_type": "stream",
          "name": "stdout",
          "text": [
            "Confusion Matrix\n",
            "[[120  10]\n",
            " [ 34  28]]\n",
            "\n",
            "Classification Report\n",
            "              precision    recall  f1-score   support\n",
            "\n",
            "         0.0       0.78      0.92      0.85       130\n",
            "         1.0       0.74      0.45      0.56        62\n",
            "\n",
            "    accuracy                           0.77       192\n",
            "   macro avg       0.76      0.69      0.70       192\n",
            "weighted avg       0.77      0.77      0.75       192\n",
            "\n",
            "Logistic Regression Accuracy Of Our Model: 77.08%\n"
          ]
        }
      ],
      "source": [
        "minmax =dataset_minmax(diabetes_df)\n",
        "normalize_dataset(diabetes_df, minmax)\n",
        "\n",
        "l_rate = 0.3\n",
        "n_steps = 100\n",
        "n_folds = 3\n",
        "\n",
        "train_set, test_set = train_test_split(diabetes_df, test_size=.25)\n",
        "\n",
        "actual = test_set[:,8]\n",
        "test_set = test_set[:,0:8]\n",
        "\n",
        "predicted = logistic_regression(train_set, test_set,l_rate,n_steps)\n",
        "\n",
        "print(\"Confusion Matrix\")\n",
        "matrix = confusion_matrix(actual,predicted)\n",
        "print(matrix)\n",
        "\n",
        "print(\"\\nClassification Report\")\n",
        "report = classification_report(actual,predicted)\n",
        "print(report)\n",
        "\n",
        "scores = accuracy_metric(actual, predicted)\n",
        "print('Logistic Regression Accuracy Of Our Model: {:.2f}%'.format(scores*100))"
      ]
    },
    {
      "cell_type": "markdown",
      "source": [
        "# DATA ANALYSIS"
      ],
      "metadata": {
        "id": "DB-v2WcFFm49"
      }
    },
    {
      "cell_type": "code",
      "source": [
        "# Create Nutritional status column \n",
        "\n",
        "Nutritional_status = pd.Series([]) \n"
      ],
      "metadata": {
        "id": "GYJd_CyRGH0T",
        "colab": {
          "base_uri": "https://localhost:8080/"
        },
        "outputId": "dc3daa2b-510e-45d9-d94a-c3858abe7cbd"
      },
      "execution_count": 77,
      "outputs": [
        {
          "output_type": "stream",
          "name": "stderr",
          "text": [
            "/usr/local/lib/python3.7/dist-packages/ipykernel_launcher.py:3: DeprecationWarning: The default dtype for empty Series will be 'object' instead of 'float64' in a future version. Specify a dtype explicitly to silence this warning.\n",
            "  This is separate from the ipykernel package so we can avoid doing imports until\n"
          ]
        }
      ]
    },
    {
      "cell_type": "code",
      "source": [
        "# Nutritional status based on BMI\n",
        "\n",
        "for i in range(len(diabetes_df)): \n",
        "\n",
        "  if diabetes_df['BMI'][i] == 0.0: \n",
        "        Nutritional_status[i]=\"NA\"\n",
        "    \n",
        "  elif diabetes_df['BMI'][i] < 18.5: \n",
        "        Nutritional_status[i]=\"Underweight\"\n",
        "        \n",
        "  elif diabetes_df['BMI'][i] < 25: \n",
        "        Nutritional_status[i]=\"Normal\"\n",
        "  \n",
        "  elif diabetes_df['BMI'][i] >= 25 and diabetes_df['BMI'][i] < 30: \n",
        "        Nutritional_status[i]=\"Overweight\"\n",
        "  \n",
        "  elif diabetes_df['BMI'][i] >= 30: \n",
        "        Nutritional_status[i]=\"Obese\"\n",
        "        \n",
        "  else: \n",
        "        Nutritional_status[i]= diabetes_df['BMI'][i]"
      ],
      "metadata": {
        "id": "dkG05sh1G1nA",
        "colab": {
          "base_uri": "https://localhost:8080/",
          "height": 235
        },
        "outputId": "be84a2eb-7288-42e3-d65d-b3c44d6e0f0c"
      },
      "execution_count": 78,
      "outputs": [
        {
          "output_type": "error",
          "ename": "IndexError",
          "evalue": "ignored",
          "traceback": [
            "\u001b[0;31m---------------------------------------------------------------------------\u001b[0m",
            "\u001b[0;31mIndexError\u001b[0m                                Traceback (most recent call last)",
            "\u001b[0;32m<ipython-input-78-0e2f449997f6>\u001b[0m in \u001b[0;36m<module>\u001b[0;34m()\u001b[0m\n\u001b[1;32m      3\u001b[0m \u001b[0;32mfor\u001b[0m \u001b[0mi\u001b[0m \u001b[0;32min\u001b[0m \u001b[0mrange\u001b[0m\u001b[0;34m(\u001b[0m\u001b[0mlen\u001b[0m\u001b[0;34m(\u001b[0m\u001b[0mdiabetes_df\u001b[0m\u001b[0;34m)\u001b[0m\u001b[0;34m)\u001b[0m\u001b[0;34m:\u001b[0m\u001b[0;34m\u001b[0m\u001b[0;34m\u001b[0m\u001b[0m\n\u001b[1;32m      4\u001b[0m \u001b[0;34m\u001b[0m\u001b[0m\n\u001b[0;32m----> 5\u001b[0;31m   \u001b[0;32mif\u001b[0m \u001b[0mdiabetes_df\u001b[0m\u001b[0;34m[\u001b[0m\u001b[0;34m'BMI'\u001b[0m\u001b[0;34m]\u001b[0m\u001b[0;34m[\u001b[0m\u001b[0mi\u001b[0m\u001b[0;34m]\u001b[0m \u001b[0;34m==\u001b[0m \u001b[0;36m0.0\u001b[0m\u001b[0;34m:\u001b[0m\u001b[0;34m\u001b[0m\u001b[0;34m\u001b[0m\u001b[0m\n\u001b[0m\u001b[1;32m      6\u001b[0m         \u001b[0mNutritional_status\u001b[0m\u001b[0;34m[\u001b[0m\u001b[0mi\u001b[0m\u001b[0;34m]\u001b[0m\u001b[0;34m=\u001b[0m\u001b[0;34m\"NA\"\u001b[0m\u001b[0;34m\u001b[0m\u001b[0;34m\u001b[0m\u001b[0m\n\u001b[1;32m      7\u001b[0m \u001b[0;34m\u001b[0m\u001b[0m\n",
            "\u001b[0;31mIndexError\u001b[0m: only integers, slices (`:`), ellipsis (`...`), numpy.newaxis (`None`) and integer or boolean arrays are valid indices"
          ]
        }
      ]
    },
    {
      "cell_type": "code",
      "source": [
        "# Insert new column - Nutritional Status\n",
        "diabetes_df.insert(6, \"Nutritional Status\", Nutritional_status)\n"
      ],
      "metadata": {
        "id": "DpB7hsh3cYQp",
        "colab": {
          "base_uri": "https://localhost:8080/",
          "height": 183
        },
        "outputId": "a6f3cd9d-fbf9-4e35-ce8c-98b69d79073b"
      },
      "execution_count": 79,
      "outputs": [
        {
          "output_type": "error",
          "ename": "AttributeError",
          "evalue": "ignored",
          "traceback": [
            "\u001b[0;31m---------------------------------------------------------------------------\u001b[0m",
            "\u001b[0;31mAttributeError\u001b[0m                            Traceback (most recent call last)",
            "\u001b[0;32m<ipython-input-79-b34169764ada>\u001b[0m in \u001b[0;36m<module>\u001b[0;34m()\u001b[0m\n\u001b[1;32m      1\u001b[0m \u001b[0;31m# Insert new column - Nutritional Status\u001b[0m\u001b[0;34m\u001b[0m\u001b[0;34m\u001b[0m\u001b[0;34m\u001b[0m\u001b[0m\n\u001b[0;32m----> 2\u001b[0;31m \u001b[0mdiabetes_df\u001b[0m\u001b[0;34m.\u001b[0m\u001b[0minsert\u001b[0m\u001b[0;34m(\u001b[0m\u001b[0;36m6\u001b[0m\u001b[0;34m,\u001b[0m \u001b[0;34m\"Nutritional Status\"\u001b[0m\u001b[0;34m,\u001b[0m \u001b[0mNutritional_status\u001b[0m\u001b[0;34m)\u001b[0m\u001b[0;34m\u001b[0m\u001b[0;34m\u001b[0m\u001b[0m\n\u001b[0m",
            "\u001b[0;31mAttributeError\u001b[0m: 'numpy.ndarray' object has no attribute 'insert'"
          ]
        }
      ]
    },
    {
      "cell_type": "code",
      "source": [
        "# Check df containing new column\n",
        "diabetes_df.head (5)"
      ],
      "metadata": {
        "id": "t3MTnDrBcjck",
        "colab": {
          "base_uri": "https://localhost:8080/",
          "height": 183
        },
        "outputId": "030650c9-e8a2-4628-9468-dd09c5c47ddb"
      },
      "execution_count": 76,
      "outputs": [
        {
          "output_type": "error",
          "ename": "AttributeError",
          "evalue": "ignored",
          "traceback": [
            "\u001b[0;31m---------------------------------------------------------------------------\u001b[0m",
            "\u001b[0;31mAttributeError\u001b[0m                            Traceback (most recent call last)",
            "\u001b[0;32m<ipython-input-76-ef3ade17e44f>\u001b[0m in \u001b[0;36m<module>\u001b[0;34m()\u001b[0m\n\u001b[1;32m      1\u001b[0m \u001b[0;31m# Check df containing new column\u001b[0m\u001b[0;34m\u001b[0m\u001b[0;34m\u001b[0m\u001b[0;34m\u001b[0m\u001b[0m\n\u001b[0;32m----> 2\u001b[0;31m \u001b[0mdiabetes_df\u001b[0m\u001b[0;34m.\u001b[0m\u001b[0mhead\u001b[0m \u001b[0;34m(\u001b[0m\u001b[0;36m5\u001b[0m\u001b[0;34m)\u001b[0m\u001b[0;34m\u001b[0m\u001b[0;34m\u001b[0m\u001b[0m\n\u001b[0m",
            "\u001b[0;31mAttributeError\u001b[0m: 'numpy.ndarray' object has no attribute 'head'"
          ]
        }
      ]
    },
    {
      "cell_type": "code",
      "source": [
        "diabetes_df['Nutritional Status'].value_counts()"
      ],
      "metadata": {
        "id": "s5jelUvucsmO"
      },
      "execution_count": null,
      "outputs": []
    },
    {
      "cell_type": "markdown",
      "source": [
        "* Obese          472  \n",
        "* Overweight     179  \n",
        "* Normal         102\n",
        "* NA              11\n",
        "* Underweight      4 \n",
        "* Name: Nutritional Status, dtype: int64\n",
        "* 11 women don't have information about BMI. Only 106 of 758 women have normal  weight. Most of the women present overweight or obesity.\n",
        "\n"
      ],
      "metadata": {
        "id": "QHo5zRmLc-jT"
      }
    },
    {
      "cell_type": "markdown",
      "source": [
        "**Diabetic level**"
      ],
      "metadata": {
        "id": "pL25B1Hodu1G"
      }
    },
    {
      "cell_type": "code",
      "source": [
        "# Create OGTT_Interpretation (Interpretation of Glucose level) column \n",
        "Glucose_level = pd.Series([]) "
      ],
      "metadata": {
        "id": "rGzVidYTd6fA"
      },
      "execution_count": null,
      "outputs": []
    },
    {
      "cell_type": "code",
      "source": [
        "# Interpretation of OGTT (Glucose) - using OGTT levels recommended by DIABETES UK (2019)\n",
        "\n",
        "for i in range(len(diabetes_df)): \n",
        "    if diabetes_df['Glucose'][i] == 0.0: \n",
        "        Glucose_level [i]=\"NA\"\n",
        "    \n",
        "    elif diabetes_df['Glucose'][i] <= 140: \n",
        "        Glucose_level [i]=\"Normal\"\n",
        "    \n",
        "    elif diabetes_df['Glucose'][i] > 140 & diabetes_df['Glucose'][i] <= 198: \n",
        "        Glucose_level [i]=\"Impaired Glucose Tolerance\"\n",
        "        \n",
        "    elif diabetes_df['Glucose'][i] > 198: \n",
        "        Glucose_level[i]=\"Diabetic Level\"\n",
        "        \n",
        "    else: \n",
        "        Glucose_level[i]= pima['Glucose'][i] "
      ],
      "metadata": {
        "id": "Wl1EftigeC6C"
      },
      "execution_count": null,
      "outputs": []
    },
    {
      "cell_type": "code",
      "source": [
        "# Insert new column - Glucose Result\n",
        "diabetes_df.insert(2, \"Glucose Result\", Glucose_level)"
      ],
      "metadata": {
        "id": "ysQjrpnNeWHt"
      },
      "execution_count": null,
      "outputs": []
    },
    {
      "cell_type": "code",
      "source": [
        "diabetes_df['Glucose Result'].value_counts()"
      ],
      "metadata": {
        "id": "0ooe1jRcecCr"
      },
      "execution_count": null,
      "outputs": []
    },
    {
      "cell_type": "markdown",
      "source": [
        "**Reference on the Level of diabetes :-**\n",
        "* Normal                        571\n",
        "* Impaired Glucose Tolerance    192\n",
        "* NA                              5\n",
        "*  Name: Glucose Result, dtype: int64\n"
      ],
      "metadata": {
        "id": "Bao_Vnk0epuu"
      }
    },
    {
      "cell_type": "code",
      "source": [
        "Impaired_Glucose_Tolerance_Diabetic = ((diabetes_df ['Glucose'] > 140 ) & (diabetes_df ['Glucose'] <= 198) & (diabetes_df ['Outcome'] == 1)).sum()\n",
        "Impaired_Glucose_Tolerance_Diabetic"
      ],
      "metadata": {
        "id": "GDBwmOMsfr92"
      },
      "execution_count": null,
      "outputs": []
    },
    {
      "cell_type": "markdown",
      "source": [
        "Not every women with impaired glucose tolerance have diabetes. That can show that the ones with impaired glucose tolerance might be in risk of developing diabetes or are diabetic, but not already diagnosed."
      ],
      "metadata": {
        "id": "EWScf8hHf5hC"
      }
    },
    {
      "cell_type": "code",
      "source": [
        "Normal_Glucose_Diabetic = ((diabetes_df['Glucose'] != 0 ) & (diabetes_df['Glucose'] <= 140) & (diabetes_df['Outcome'] == 1)).sum()\n",
        "Normal_Glucose_Diabetic"
      ],
      "metadata": {
        "id": "pyEUwg7vgHV1"
      },
      "execution_count": null,
      "outputs": []
    },
    {
      "cell_type": "markdown",
      "source": [
        "In the given dataset 134 Women recorded non diabetic ."
      ],
      "metadata": {
        "id": "HaUgAMo5gS5c"
      }
    },
    {
      "cell_type": "code",
      "source": [
        "diabetes_df.head(5)"
      ],
      "metadata": {
        "id": "r7f1N5FZgtJQ"
      },
      "execution_count": null,
      "outputs": []
    },
    {
      "cell_type": "markdown",
      "source": [
        "**AGE**"
      ],
      "metadata": {
        "id": "vuAY18dUnEXn"
      }
    },
    {
      "cell_type": "code",
      "source": [
        "diabetes_df['Age'].value_counts()"
      ],
      "metadata": {
        "id": "u4SnH9yxnHsQ"
      },
      "execution_count": null,
      "outputs": []
    },
    {
      "cell_type": "markdown",
      "source": [
        "Most of the Womans participated in the creation of data set are of 22 yrs ( 72 )and the least to be 72 , 64 , 68 , 70 and 81 ."
      ],
      "metadata": {
        "id": "i3hqUhBenNLH"
      }
    },
    {
      "cell_type": "markdown",
      "source": [
        "# Reference \n",
        "* Taken reference from - https://colab.research.google.com/drive/1duJLwYRbHXB5p1NHoGYdzC_5pp6AFGJK?usp=sharing\n",
        "\n",
        "* Kaggle\n",
        "\n",
        "* https://www.datacamp.com/community/tutorials/understanding-logistic-regression-python\n",
        "\n",
        "* In this project, Pima Indians Diabetes Database has been used.\n",
        "\n",
        "* url: https://www.kaggle.com/uciml/pima-indians-diabetes-database\n"
      ],
      "metadata": {
        "id": "odm_TgLjNfyw"
      }
    }
  ],
  "metadata": {
    "interpreter": {
      "hash": "23300995598eec4bcf6bd89cf02d1c3675e8b2616661418dbbf5580aa901878d"
    },
    "kernelspec": {
      "display_name": "Python 3.9.6 64-bit",
      "language": "python",
      "name": "python3"
    },
    "language_info": {
      "codemirror_mode": {
        "name": "ipython",
        "version": 3
      },
      "file_extension": ".py",
      "mimetype": "text/x-python",
      "name": "python",
      "nbconvert_exporter": "python",
      "pygments_lexer": "ipython3",
      "version": "3.9.6"
    },
    "orig_nbformat": 4,
    "colab": {
      "name": "Pima.ipynb",
      "provenance": [],
      "collapsed_sections": []
    }
  },
  "nbformat": 4,
  "nbformat_minor": 0
}