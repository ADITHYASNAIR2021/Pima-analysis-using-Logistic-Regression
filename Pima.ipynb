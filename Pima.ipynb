{
  "cells": [
    {
      "cell_type": "markdown",
      "metadata": {
        "id": "92APWG15njXO"
      },
      "source": [
        "# Data processing "
      ]
    },
    {
      "cell_type": "markdown",
      "metadata": {
        "id": "Xiy1VcElLplZ"
      },
      "source": [
        "# Importing Libraries "
      ]
    },
    {
      "cell_type": "code",
      "execution_count": 1,
      "metadata": {
        "colab": {
          "base_uri": "https://localhost:8080/"
        },
        "id": "ML9hoG3t8FXa",
        "outputId": "313e487a-9bf2-4109-841a-082b476f8bcd"
      },
      "outputs": [
        {
          "name": "stdout",
          "output_type": "stream",
          "text": [
            "Requirement already satisfied: numpy in c:\\users\\user\\appdata\\local\\programs\\python\\python39\\lib\\site-packages (1.19.5)\n",
            "Note: you may need to restart the kernel to use updated packages.\n",
            "Requirement already satisfied: pandas in c:\\users\\user\\appdata\\local\\programs\\python\\python39\\lib\\site-packages (1.3.1)\n",
            "Requirement already satisfied: numpy>=1.17.3 in c:\\users\\user\\appdata\\local\\programs\\python\\python39\\lib\\site-packages (from pandas) (1.19.5)\n",
            "Requirement already satisfied: pytz>=2017.3 in c:\\users\\user\\appdata\\local\\programs\\python\\python39\\lib\\site-packages (from pandas) (2021.1)\n",
            "Requirement already satisfied: python-dateutil>=2.7.3 in c:\\users\\user\\appdata\\local\\programs\\python\\python39\\lib\\site-packages (from pandas) (2.8.2)\n",
            "Requirement already satisfied: six>=1.5 in c:\\users\\user\\appdata\\local\\programs\\python\\python39\\lib\\site-packages (from python-dateutil>=2.7.3->pandas) (1.15.0)\n",
            "Note: you may need to restart the kernel to use updated packages.\n",
            "Requirement already satisfied: matplotlib in c:\\users\\user\\appdata\\local\\programs\\python\\python39\\lib\\site-packages (3.4.2)\n",
            "Requirement already satisfied: kiwisolver>=1.0.1 in c:\\users\\user\\appdata\\local\\programs\\python\\python39\\lib\\site-packages (from matplotlib) (1.3.1)\n",
            "Requirement already satisfied: cycler>=0.10 in c:\\users\\user\\appdata\\local\\programs\\python\\python39\\lib\\site-packages (from matplotlib) (0.10.0)\n",
            "Requirement already satisfied: python-dateutil>=2.7 in c:\\users\\user\\appdata\\local\\programs\\python\\python39\\lib\\site-packages (from matplotlib) (2.8.2)\n",
            "Requirement already satisfied: pillow>=6.2.0 in c:\\users\\user\\appdata\\local\\programs\\python\\python39\\lib\\site-packages (from matplotlib) (8.3.1)\n",
            "Requirement already satisfied: numpy>=1.16 in c:\\users\\user\\appdata\\local\\programs\\python\\python39\\lib\\site-packages (from matplotlib) (1.19.5)\n",
            "Requirement already satisfied: pyparsing>=2.2.1 in c:\\users\\user\\appdata\\local\\programs\\python\\python39\\lib\\site-packages (from matplotlib) (2.4.7)\n",
            "Requirement already satisfied: six in c:\\users\\user\\appdata\\local\\programs\\python\\python39\\lib\\site-packages (from cycler>=0.10->matplotlib) (1.15.0)\n",
            "Note: you may need to restart the kernel to use updated packages.\n",
            "Requirement already satisfied: sklearn in c:\\users\\user\\appdata\\local\\programs\\python\\python39\\lib\\site-packages (0.0)Note: you may need to restart the kernel to use updated packages.\n",
            "\n",
            "Requirement already satisfied: scikit-learn in c:\\users\\user\\appdata\\local\\programs\\python\\python39\\lib\\site-packages (from sklearn) (0.24.2)\n",
            "Requirement already satisfied: numpy>=1.13.3 in c:\\users\\user\\appdata\\local\\programs\\python\\python39\\lib\\site-packages (from scikit-learn->sklearn) (1.19.5)\n",
            "Requirement already satisfied: joblib>=0.11 in c:\\users\\user\\appdata\\local\\programs\\python\\python39\\lib\\site-packages (from scikit-learn->sklearn) (1.0.1)\n",
            "Requirement already satisfied: threadpoolctl>=2.0.0 in c:\\users\\user\\appdata\\local\\programs\\python\\python39\\lib\\site-packages (from scikit-learn->sklearn) (2.2.0)\n",
            "Requirement already satisfied: scipy>=0.19.1 in c:\\users\\user\\appdata\\local\\programs\\python\\python39\\lib\\site-packages (from scikit-learn->sklearn) (1.7.0)\n",
            "Requirement already satisfied: seaborn in c:\\users\\user\\appdata\\local\\programs\\python\\python39\\lib\\site-packages (0.11.2)\n",
            "Requirement already satisfied: pandas>=0.23 in c:\\users\\user\\appdata\\local\\programs\\python\\python39\\lib\\site-packages (from seaborn) (1.3.1)\n",
            "Requirement already satisfied: numpy>=1.15 in c:\\users\\user\\appdata\\local\\programs\\python\\python39\\lib\\site-packages (from seaborn) (1.19.5)\n",
            "Requirement already satisfied: matplotlib>=2.2 in c:\\users\\user\\appdata\\local\\programs\\python\\python39\\lib\\site-packages (from seaborn) (3.4.2)\n",
            "Requirement already satisfied: scipy>=1.0 in c:\\users\\user\\appdata\\local\\programs\\python\\python39\\lib\\site-packages (from seaborn) (1.7.0)\n",
            "Requirement already satisfied: kiwisolver>=1.0.1 in c:\\users\\user\\appdata\\local\\programs\\python\\python39\\lib\\site-packages (from matplotlib>=2.2->seaborn) (1.3.1)\n",
            "Requirement already satisfied: pyparsing>=2.2.1 in c:\\users\\user\\appdata\\local\\programs\\python\\python39\\lib\\site-packages (from matplotlib>=2.2->seaborn) (2.4.7)\n",
            "Requirement already satisfied: python-dateutil>=2.7 in c:\\users\\user\\appdata\\local\\programs\\python\\python39\\lib\\site-packages (from matplotlib>=2.2->seaborn) (2.8.2)\n",
            "Requirement already satisfied: cycler>=0.10 in c:\\users\\user\\appdata\\local\\programs\\python\\python39\\lib\\site-packages (from matplotlib>=2.2->seaborn) (0.10.0)\n",
            "Requirement already satisfied: pillow>=6.2.0 in c:\\users\\user\\appdata\\local\\programs\\python\\python39\\lib\\site-packages (from matplotlib>=2.2->seaborn) (8.3.1)\n",
            "Requirement already satisfied: pytz>=2017.3 in c:\\users\\user\\appdata\\local\\programs\\python\\python39\\lib\\site-packages (from pandas>=0.23->seaborn) (2021.1)\n",
            "Requirement already satisfied: six in c:\\users\\user\\appdata\\local\\programs\\python\\python39\\lib\\site-packages (from cycler>=0.10->matplotlib>=2.2->seaborn) (1.15.0)\n",
            "Note: you may need to restart the kernel to use updated packages.\n"
          ]
        }
      ],
      "source": [
        "%pip install numpy\n",
        "%pip install pandas \n",
        "%pip install matplotlib\n",
        "%pip install sklearn\n",
        "%pip install seaborn\n",
        "import numpy as np # linear algebra\n",
        "import pandas as pd # data processing, CSV file I/O (e.g. pd.read_csv)\n",
        "import matplotlib.pyplot as plt\n",
        "from sklearn.model_selection import train_test_split\n",
        "from sklearn.linear_model import LogisticRegression\n",
        "from sklearn.metrics import classification_report\n",
        "from sklearn.metrics import confusion_matrix\n",
        "from sklearn.metrics import accuracy_score\n",
        "import seaborn as sns\n",
        "from sklearn.model_selection import cross_val_score\n"
      ]
    },
    {
      "cell_type": "markdown",
      "metadata": {
        "id": "nOZElBGOL1OS"
      },
      "source": [
        "Loading of data to workspace ."
      ]
    },
    {
      "cell_type": "code",
      "execution_count": 2,
      "metadata": {
        "colab": {
          "base_uri": "https://localhost:8080/",
          "height": 363
        },
        "id": "oqzHl9Pl8FXl",
        "outputId": "9c4375c8-73a6-48d1-cafc-b199c228f46a"
      },
      "outputs": [
        {
          "data": {
            "text/html": [
              "<div>\n",
              "<style scoped>\n",
              "    .dataframe tbody tr th:only-of-type {\n",
              "        vertical-align: middle;\n",
              "    }\n",
              "\n",
              "    .dataframe tbody tr th {\n",
              "        vertical-align: top;\n",
              "    }\n",
              "\n",
              "    .dataframe thead th {\n",
              "        text-align: right;\n",
              "    }\n",
              "</style>\n",
              "<table border=\"1\" class=\"dataframe\">\n",
              "  <thead>\n",
              "    <tr style=\"text-align: right;\">\n",
              "      <th></th>\n",
              "      <th>Pregnancies</th>\n",
              "      <th>Glucose</th>\n",
              "      <th>BloodPressure</th>\n",
              "      <th>SkinThickness</th>\n",
              "      <th>Insulin</th>\n",
              "      <th>BMI</th>\n",
              "      <th>DiabetesPedigreeFunction</th>\n",
              "      <th>Age</th>\n",
              "      <th>Outcome</th>\n",
              "    </tr>\n",
              "  </thead>\n",
              "  <tbody>\n",
              "    <tr>\n",
              "      <th>0</th>\n",
              "      <td>6</td>\n",
              "      <td>148</td>\n",
              "      <td>72</td>\n",
              "      <td>35</td>\n",
              "      <td>0</td>\n",
              "      <td>33.6</td>\n",
              "      <td>0.627</td>\n",
              "      <td>50</td>\n",
              "      <td>1</td>\n",
              "    </tr>\n",
              "    <tr>\n",
              "      <th>1</th>\n",
              "      <td>1</td>\n",
              "      <td>85</td>\n",
              "      <td>66</td>\n",
              "      <td>29</td>\n",
              "      <td>0</td>\n",
              "      <td>26.6</td>\n",
              "      <td>0.351</td>\n",
              "      <td>31</td>\n",
              "      <td>0</td>\n",
              "    </tr>\n",
              "    <tr>\n",
              "      <th>2</th>\n",
              "      <td>8</td>\n",
              "      <td>183</td>\n",
              "      <td>64</td>\n",
              "      <td>0</td>\n",
              "      <td>0</td>\n",
              "      <td>23.3</td>\n",
              "      <td>0.672</td>\n",
              "      <td>32</td>\n",
              "      <td>1</td>\n",
              "    </tr>\n",
              "    <tr>\n",
              "      <th>3</th>\n",
              "      <td>1</td>\n",
              "      <td>89</td>\n",
              "      <td>66</td>\n",
              "      <td>23</td>\n",
              "      <td>94</td>\n",
              "      <td>28.1</td>\n",
              "      <td>0.167</td>\n",
              "      <td>21</td>\n",
              "      <td>0</td>\n",
              "    </tr>\n",
              "    <tr>\n",
              "      <th>4</th>\n",
              "      <td>0</td>\n",
              "      <td>137</td>\n",
              "      <td>40</td>\n",
              "      <td>35</td>\n",
              "      <td>168</td>\n",
              "      <td>43.1</td>\n",
              "      <td>2.288</td>\n",
              "      <td>33</td>\n",
              "      <td>1</td>\n",
              "    </tr>\n",
              "    <tr>\n",
              "      <th>5</th>\n",
              "      <td>5</td>\n",
              "      <td>116</td>\n",
              "      <td>74</td>\n",
              "      <td>0</td>\n",
              "      <td>0</td>\n",
              "      <td>25.6</td>\n",
              "      <td>0.201</td>\n",
              "      <td>30</td>\n",
              "      <td>0</td>\n",
              "    </tr>\n",
              "    <tr>\n",
              "      <th>6</th>\n",
              "      <td>3</td>\n",
              "      <td>78</td>\n",
              "      <td>50</td>\n",
              "      <td>32</td>\n",
              "      <td>88</td>\n",
              "      <td>31.0</td>\n",
              "      <td>0.248</td>\n",
              "      <td>26</td>\n",
              "      <td>1</td>\n",
              "    </tr>\n",
              "    <tr>\n",
              "      <th>7</th>\n",
              "      <td>10</td>\n",
              "      <td>115</td>\n",
              "      <td>0</td>\n",
              "      <td>0</td>\n",
              "      <td>0</td>\n",
              "      <td>35.3</td>\n",
              "      <td>0.134</td>\n",
              "      <td>29</td>\n",
              "      <td>0</td>\n",
              "    </tr>\n",
              "    <tr>\n",
              "      <th>8</th>\n",
              "      <td>2</td>\n",
              "      <td>197</td>\n",
              "      <td>70</td>\n",
              "      <td>45</td>\n",
              "      <td>543</td>\n",
              "      <td>30.5</td>\n",
              "      <td>0.158</td>\n",
              "      <td>53</td>\n",
              "      <td>1</td>\n",
              "    </tr>\n",
              "    <tr>\n",
              "      <th>9</th>\n",
              "      <td>8</td>\n",
              "      <td>125</td>\n",
              "      <td>96</td>\n",
              "      <td>0</td>\n",
              "      <td>0</td>\n",
              "      <td>0.0</td>\n",
              "      <td>0.232</td>\n",
              "      <td>54</td>\n",
              "      <td>1</td>\n",
              "    </tr>\n",
              "  </tbody>\n",
              "</table>\n",
              "</div>"
            ],
            "text/plain": [
              "   Pregnancies  Glucose  BloodPressure  SkinThickness  Insulin   BMI  \\\n",
              "0            6      148             72             35        0  33.6   \n",
              "1            1       85             66             29        0  26.6   \n",
              "2            8      183             64              0        0  23.3   \n",
              "3            1       89             66             23       94  28.1   \n",
              "4            0      137             40             35      168  43.1   \n",
              "5            5      116             74              0        0  25.6   \n",
              "6            3       78             50             32       88  31.0   \n",
              "7           10      115              0              0        0  35.3   \n",
              "8            2      197             70             45      543  30.5   \n",
              "9            8      125             96              0        0   0.0   \n",
              "\n",
              "   DiabetesPedigreeFunction  Age  Outcome  \n",
              "0                     0.627   50        1  \n",
              "1                     0.351   31        0  \n",
              "2                     0.672   32        1  \n",
              "3                     0.167   21        0  \n",
              "4                     2.288   33        1  \n",
              "5                     0.201   30        0  \n",
              "6                     0.248   26        1  \n",
              "7                     0.134   29        0  \n",
              "8                     0.158   53        1  \n",
              "9                     0.232   54        1  "
            ]
          },
          "execution_count": 2,
          "metadata": {},
          "output_type": "execute_result"
        }
      ],
      "source": [
        "url=\"https://raw.githubusercontent.com/ADITHYASNAIR2021/Diabetes-Dataset-/main/diabetes.csv\"\n",
        "diabetes_df = pd.read_csv(url)\n",
        "diabetes_df.head(10)"
      ]
    },
    {
      "cell_type": "code",
      "execution_count": 3,
      "metadata": {
        "colab": {
          "base_uri": "https://localhost:8080/"
        },
        "id": "ZbgCbk3P8FXm",
        "outputId": "08a361f5-f296-4c2b-cd71-96c2af3f4efc"
      },
      "outputs": [
        {
          "data": {
            "text/plain": [
              "(768, 9)"
            ]
          },
          "execution_count": 3,
          "metadata": {},
          "output_type": "execute_result"
        }
      ],
      "source": [
        "# Check dimension of the DataFrame\n",
        "diabetes_df.shape"
      ]
    },
    {
      "cell_type": "code",
      "execution_count": 4,
      "metadata": {
        "colab": {
          "base_uri": "https://localhost:8080/"
        },
        "id": "BN9lKZ-Yo2pM",
        "outputId": "fa24a7af-a977-4a0f-ebaa-b4a5ab177832"
      },
      "outputs": [
        {
          "data": {
            "text/plain": [
              "Pregnancies                   3.845052\n",
              "Glucose                     120.894531\n",
              "BloodPressure                69.105469\n",
              "SkinThickness                20.536458\n",
              "Insulin                      79.799479\n",
              "BMI                          31.992578\n",
              "DiabetesPedigreeFunction      0.471876\n",
              "Age                          33.240885\n",
              "Outcome                       0.348958\n",
              "dtype: float64"
            ]
          },
          "execution_count": 4,
          "metadata": {},
          "output_type": "execute_result"
        }
      ],
      "source": [
        "# Check the mean of the values \n",
        "diabetes_df.mean()"
      ]
    },
    {
      "cell_type": "code",
      "execution_count": 5,
      "metadata": {
        "colab": {
          "base_uri": "https://localhost:8080/"
        },
        "id": "MOpIqwac8FXn",
        "outputId": "f22172d5-85e7-4f85-d7fc-74291de8aafa"
      },
      "outputs": [
        {
          "data": {
            "text/plain": [
              "RangeIndex(start=0, stop=768, step=1)"
            ]
          },
          "execution_count": 5,
          "metadata": {},
          "output_type": "execute_result"
        }
      ],
      "source": [
        "#get row index\n",
        "diabetes_df_row_idx = diabetes_df.index\n",
        "diabetes_df_row_idx"
      ]
    },
    {
      "cell_type": "code",
      "execution_count": 6,
      "metadata": {
        "colab": {
          "base_uri": "https://localhost:8080/"
        },
        "id": "kEgomXWD8FXo",
        "outputId": "e0a2676b-a51c-4bfb-f904-23b439f04ad7"
      },
      "outputs": [
        {
          "data": {
            "text/plain": [
              "Index(['Pregnancies', 'Glucose', 'BloodPressure', 'SkinThickness', 'Insulin',\n",
              "       'BMI', 'DiabetesPedigreeFunction', 'Age', 'Outcome'],\n",
              "      dtype='object')"
            ]
          },
          "execution_count": 6,
          "metadata": {},
          "output_type": "execute_result"
        }
      ],
      "source": [
        "# Get the column names \n",
        "diabetes_df_col_idx = diabetes_df.columns\n",
        "diabetes_df_col_idx"
      ]
    },
    {
      "cell_type": "code",
      "execution_count": 7,
      "metadata": {
        "colab": {
          "base_uri": "https://localhost:8080/"
        },
        "id": "B9ULpPqA8FXp",
        "outputId": "0e0ea14c-23ad-4f05-ef38-a3c72cb6c623"
      },
      "outputs": [
        {
          "data": {
            "text/plain": [
              "Pregnancies                   int64\n",
              "Glucose                       int64\n",
              "BloodPressure                 int64\n",
              "SkinThickness                 int64\n",
              "Insulin                       int64\n",
              "BMI                         float64\n",
              "DiabetesPedigreeFunction    float64\n",
              "Age                           int64\n",
              "Outcome                       int64\n",
              "dtype: object"
            ]
          },
          "execution_count": 7,
          "metadata": {},
          "output_type": "execute_result"
        }
      ],
      "source": [
        "#defining the data types \n",
        "diabetes_df.dtypes"
      ]
    },
    {
      "cell_type": "code",
      "execution_count": 8,
      "metadata": {
        "colab": {
          "base_uri": "https://localhost:8080/",
          "height": 879
        },
        "id": "Rd1OZJkM8FXr",
        "outputId": "7d7b19d0-21d9-40f2-9e55-87e74431771c"
      },
      "outputs": [
        {
          "data": {
            "image/png": "[encoded data removed]",
            "text/plain": [
              "<Figure size 1440x1080 with 9 Axes>"
            ]
          },
          "metadata": {
            "needs_background": "light"
          },
          "output_type": "display_data"
        }
      ],
      "source": [
        "# Histogram\n",
        "diabetes_df.hist(bins=50, figsize=(20, 15))\n",
        "plt.show()"
      ]
    },
    {
      "cell_type": "code",
      "execution_count": 9,
      "metadata": {
        "colab": {
          "base_uri": "https://localhost:8080/"
        },
        "id": "_wLBq6Oq8FXx",
        "outputId": "e2b28038-faf9-4d40-f33f-4dd6e2600a7a"
      },
      "outputs": [
        {
          "name": "stdout",
          "output_type": "stream",
          "text": [
            "How many null values in the dataset?: 0\n"
          ]
        }
      ],
      "source": [
        "#printing\n",
        "print(\"How many null values in the dataset?:\",diabetes_df.isnull().any().sum())"
      ]
    },
    {
      "cell_type": "code",
      "execution_count": 10,
      "metadata": {
        "colab": {
          "base_uri": "https://localhost:8080/"
        },
        "id": "eTlwtD828FXz",
        "outputId": "d6298220-7cd9-4fb2-f776-e170ac6a43b6"
      },
      "outputs": [
        {
          "data": {
            "text/plain": [
              "array([[  6.   , 148.   ,  72.   , ...,   0.627,  50.   ,   1.   ],\n",
              "       [  1.   ,  85.   ,  66.   , ...,   0.351,  31.   ,   0.   ],\n",
              "       [  8.   , 183.   ,  64.   , ...,   0.672,  32.   ,   1.   ],\n",
              "       ...,\n",
              "       [  5.   , 121.   ,  72.   , ...,   0.245,  30.   ,   0.   ],\n",
              "       [  1.   , 126.   ,  60.   , ...,   0.349,  47.   ,   1.   ],\n",
              "       [  1.   ,  93.   ,  70.   , ...,   0.315,  23.   ,   0.   ]])"
            ]
          },
          "execution_count": 10,
          "metadata": {},
          "output_type": "execute_result"
        }
      ],
      "source": [
        "#Just take the values, ignoring the labels and index\n",
        "diabetes_df = diabetes_df.values\n",
        "diabetes_df\n"
      ]
    },
    {
      "cell_type": "code",
      "execution_count": 11,
      "metadata": {
        "colab": {
          "base_uri": "https://localhost:8080/"
        },
        "id": "RkNeFeG08FX0",
        "outputId": "3a1259be-83f0-42b0-9e6f-0a959d9fb64c"
      },
      "outputs": [
        {
          "name": "stdout",
          "output_type": "stream",
          "text": [
            "Confusion Matrix\n",
            "[[109  11]\n",
            " [ 28  44]]\n",
            "\n",
            "Classification Report\n",
            "              precision    recall  f1-score   support\n",
            "\n",
            "         0.0       0.80      0.91      0.85       120\n",
            "         1.0       0.80      0.61      0.69        72\n",
            "\n",
            "    accuracy                           0.80       192\n",
            "   macro avg       0.80      0.76      0.77       192\n",
            "weighted avg       0.80      0.80      0.79       192\n",
            "\n",
            "Logistic Regression Accuracy of Scikit Model: 79.69%\n",
            "cross validation scores : [0.75862069 0.82758621 0.75862069 0.72413793 0.86206897 0.82758621\n",
            " 0.72413793 0.79310345 0.72413793 0.68965517 0.93103448 0.72413793\n",
            " 0.86206897 0.72413793 0.68965517 0.68965517 0.60714286 0.82142857\n",
            " 0.78571429 0.78571429]\n",
            "Average cross validation scores :{:. 2f} 0.7655172413793104\n"
          ]
        }
      ],
      "source": [
        "X= diabetes_df[:,0:8] #Predictors\n",
        "y = diabetes_df[:,8] #Target\n",
        "\n",
        "X_train,X_test,y_train,y_test = train_test_split(X,y,test_size=.25)\n",
        "\n",
        "logistic_model = LogisticRegression(fit_intercept=True,C=1e15,solver='newton-cg',max_iter=300)\n",
        "logistic_model.fit(X_train,y_train)\n",
        "predicted = logistic_model.predict(X_test)\n",
        " \n",
        "#Confusion matrix \n",
        "\n",
        "print(\"Confusion Matrix\")\n",
        "matrix = confusion_matrix(y_test,predicted)\n",
        "print(matrix)\n",
        "\n",
        "#Classification Report\n",
        "\n",
        "print(\"\\nClassification Report\")\n",
        "report = classification_report(y_test,predicted)\n",
        "print(report)\n",
        "\n",
        "#Accuracy\n",
        "\n",
        "lr_accuracy = accuracy_score(y_test, predicted)\n",
        "print('Logistic Regression Accuracy of Scikit Model: {:.2f}%'.format(lr_accuracy*100))\n",
        "\n",
        "#Cross Validation\n",
        "\n",
        "logreg = LogisticRegression(max_iter=500)\n",
        "scores = cross_val_score(logreg , X_train , y_train , cv=20)\n",
        "print(f\"cross validation scores : {scores}\")\n",
        "print(\"Average cross validation scores :{:. 2f}\",format(scores.mean()))"
      ]
    },
    {
      "cell_type": "markdown",
      "metadata": {
        "id": "DB-v2WcFFm49"
      },
      "source": [
        "# DATA ANALYSIS"
      ]
    },
    {
      "cell_type": "code",
      "execution_count": 12,
      "metadata": {
        "colab": {
          "base_uri": "https://localhost:8080/"
        },
        "id": "GYJd_CyRGH0T",
        "outputId": "dc3daa2b-510e-45d9-d94a-c3858abe7cbd"
      },
      "outputs": [
        {
          "name": "stderr",
          "output_type": "stream",
          "text": [
            "C:\\Users\\USER\\AppData\\Local\\Temp/ipykernel_17976/3045346153.py:3: DeprecationWarning: The default dtype for empty Series will be 'object' instead of 'float64' in a future version. Specify a dtype explicitly to silence this warning.\n",
            "  Nutritional_status = pd.Series([])\n"
          ]
        }
      ],
      "source": [
        "# Create Nutritional status column \n",
        "\n",
        "Nutritional_status = pd.Series([]) \n"
      ]
    },
    {
      "cell_type": "code",
      "execution_count": null,
      "metadata": {
        "colab": {
          "base_uri": "https://localhost:8080/",
          "height": 235
        },
        "id": "dkG05sh1G1nA",
        "outputId": "be84a2eb-7288-42e3-d65d-b3c44d6e0f0c"
      },
      "outputs": [],
      "source": [
        "# Nutritional status based on BMI\n",
        "\n",
        "for i in range(len(diabetes_df)): \n",
        "\n",
        "  if diabetes_df['BMI'][i] == 0.0: \n",
        "        Nutritional_status[i]=\"NA\"\n",
        "    \n",
        "  elif diabetes_df['BMI'][i] < 18.5: \n",
        "        Nutritional_status[i]=\"Underweight\"\n",
        "        \n",
        "  elif diabetes_df['BMI'][i] < 25: \n",
        "        Nutritional_status[i]=\"Normal\"\n",
        "  \n",
        "  elif diabetes_df['BMI'][i] >= 25 and diabetes_df['BMI'][i] < 30: \n",
        "        Nutritional_status[i]=\"Overweight\"\n",
        "  \n",
        "  elif diabetes_df['BMI'][i] >= 30: \n",
        "        Nutritional_status[i]=\"Obese\"\n",
        "        \n",
        "  else: \n",
        "        Nutritional_status[i]= diabetes_df['BMI'][i]"
      ]
    },
    {
      "cell_type": "code",
      "execution_count": null,
      "metadata": {
        "colab": {
          "base_uri": "https://localhost:8080/",
          "height": 183
        },
        "id": "DpB7hsh3cYQp",
        "outputId": "a6f3cd9d-fbf9-4e35-ce8c-98b69d79073b"
      },
      "outputs": [],
      "source": [
        "# Insert new column - Nutritional Status\n",
        "diabetes_df.insert(6, \"Nutritional Status\", Nutritional_status)\n"
      ]
    },
    {
      "cell_type": "code",
      "execution_count": null,
      "metadata": {
        "colab": {
          "base_uri": "https://localhost:8080/",
          "height": 183
        },
        "id": "t3MTnDrBcjck",
        "outputId": "030650c9-e8a2-4628-9468-dd09c5c47ddb"
      },
      "outputs": [],
      "source": [
        "# Check df containing new column\n",
        "diabetes_df.head (5)"
      ]
    },
    {
      "cell_type": "code",
      "execution_count": null,
      "metadata": {
        "id": "s5jelUvucsmO"
      },
      "outputs": [],
      "source": [
        "diabetes_df['Nutritional Status'].value_counts()"
      ]
    },
    {
      "cell_type": "markdown",
      "metadata": {
        "id": "QHo5zRmLc-jT"
      },
      "source": [
        "* Obese          472  \n",
        "* Overweight     179  \n",
        "* Normal         102\n",
        "* NA              11\n",
        "* Underweight      4 \n",
        "* Name: Nutritional Status, dtype: int64\n",
        "* 11 women don't have information about BMI. Only 106 of 758 women have normal  weight. Most of the women present overweight or obesity.\n",
        "\n"
      ]
    },
    {
      "cell_type": "markdown",
      "metadata": {
        "id": "pL25B1Hodu1G"
      },
      "source": [
        "**Diabetic level**"
      ]
    },
    {
      "cell_type": "code",
      "execution_count": null,
      "metadata": {
        "id": "rGzVidYTd6fA"
      },
      "outputs": [],
      "source": [
        "# Create OGTT_Interpretation (Interpretation of Glucose level) column \n",
        "Glucose_level = pd.Series([]) "
      ]
    },
    {
      "cell_type": "code",
      "execution_count": null,
      "metadata": {
        "id": "Wl1EftigeC6C"
      },
      "outputs": [],
      "source": [
        "# Interpretation of OGTT (Glucose) - using OGTT levels recommended by DIABETES UK (2019)\n",
        "\n",
        "for i in range(len(diabetes_df)): \n",
        "    if diabetes_df['Glucose'][i] == 0.0: \n",
        "        Glucose_level [i]=\"NA\"\n",
        "    \n",
        "    elif diabetes_df['Glucose'][i] <= 140: \n",
        "        Glucose_level [i]=\"Normal\"\n",
        "    \n",
        "    elif diabetes_df['Glucose'][i] > 140 & diabetes_df['Glucose'][i] <= 198: \n",
        "        Glucose_level [i]=\"Impaired Glucose Tolerance\"\n",
        "        \n",
        "    elif diabetes_df['Glucose'][i] > 198: \n",
        "        Glucose_level[i]=\"Diabetic Level\"\n",
        "        \n",
        "    else: \n",
        "        Glucose_level[i]= diabetes_df['Glucose'][i] "
      ]
    },
    {
      "cell_type": "code",
      "execution_count": null,
      "metadata": {
        "id": "ysQjrpnNeWHt"
      },
      "outputs": [],
      "source": [
        "# Insert new column - Glucose Result\n",
        "diabetes_df.insert(2, \"Glucose Result\", Glucose_level)"
      ]
    },
    {
      "cell_type": "code",
      "execution_count": null,
      "metadata": {
        "id": "0ooe1jRcecCr"
      },
      "outputs": [],
      "source": [
        "diabetes_df['Glucose Result'].value_counts()"
      ]
    },
    {
      "cell_type": "markdown",
      "metadata": {
        "id": "Bao_Vnk0epuu"
      },
      "source": [
        "**Reference on the Level of diabetes :-**\n",
        "* Normal                        571\n",
        "* Impaired Glucose Tolerance    192\n",
        "* NA                              5\n",
        "*  Name: Glucose Result, dtype: int64\n"
      ]
    },
    {
      "cell_type": "code",
      "execution_count": null,
      "metadata": {
        "id": "GDBwmOMsfr92"
      },
      "outputs": [],
      "source": [
        "Impaired_Glucose_Tolerance_Diabetic = ((diabetes_df ['Glucose'] > 140 ) & (diabetes_df ['Glucose'] <= 198) & (diabetes_df ['Outcome'] == 1)).sum()\n",
        "Impaired_Glucose_Tolerance_Diabetic"
      ]
    },
    {
      "cell_type": "markdown",
      "metadata": {
        "id": "EWScf8hHf5hC"
      },
      "source": [
        "Not every women with impaired glucose tolerance have diabetes. That can show that the ones with impaired glucose tolerance might be in risk of developing diabetes or are diabetic, but not already diagnosed."
      ]
    },
    {
      "cell_type": "code",
      "execution_count": null,
      "metadata": {
        "id": "pyEUwg7vgHV1"
      },
      "outputs": [],
      "source": [
        "Normal_Glucose_Diabetic = ((diabetes_df['Glucose'] != 0 ) & (diabetes_df['Glucose'] <= 140) & (diabetes_df['Outcome'] == 1)).sum()\n",
        "Normal_Glucose_Diabetic"
      ]
    },
    {
      "cell_type": "markdown",
      "metadata": {
        "id": "HaUgAMo5gS5c"
      },
      "source": [
        "In the given dataset 134 Women recorded non diabetic ."
      ]
    },
    {
      "cell_type": "code",
      "execution_count": null,
      "metadata": {
        "id": "r7f1N5FZgtJQ"
      },
      "outputs": [],
      "source": [
        "diabetes_df.head(5)"
      ]
    },
    {
      "cell_type": "markdown",
      "metadata": {
        "id": "vuAY18dUnEXn"
      },
      "source": [
        "**AGE**"
      ]
    },
    {
      "cell_type": "code",
      "execution_count": null,
      "metadata": {
        "id": "u4SnH9yxnHsQ"
      },
      "outputs": [],
      "source": [
        "diabetes_df['Age'].value_counts()"
      ]
    },
    {
      "cell_type": "markdown",
      "metadata": {
        "id": "i3hqUhBenNLH"
      },
      "source": [
        "Most of the Womans participated in the creation of data set are of 22 yrs ( 72 )and the least to be 72 , 64 , 68 , 70 and 81 ."
      ]
    },
    {
      "cell_type": "markdown",
      "metadata": {
        "id": "odm_TgLjNfyw"
      },
      "source": [
        "# Reference \n",
        "* Taken reference from - https://colab.research.google.com/drive/1duJLwYRbHXB5p1NHoGYdzC_5pp6AFGJK?usp=sharing\n",
        "\n",
        "* Kaggle\n",
        "\n",
        "* https://www.datacamp.com/community/tutorials/understanding-logistic-regression-python\n",
        "\n",
        "* In this project, Pima Indians Diabetes Database has been used.\n",
        "\n",
        "* url: https://www.kaggle.com/uciml/pima-indians-diabetes-database\n"
      ]
    }
  ],
  "metadata": {
    "colab": {
      "collapsed_sections": [],
      "name": "Pima.ipynb",
      "provenance": []
    },
    "interpreter": {
      "hash": "23300995598eec4bcf6bd89cf02d1c3675e8b2616661418dbbf5580aa901878d"
    },
    "kernelspec": {
      "display_name": "Python 3.9.6 64-bit",
      "language": "python",
      "name": "python3"
    },
    "language_info": {
      "codemirror_mode": {
        "name": "ipython",
        "version": 3
      },
      "file_extension": ".py",
      "mimetype": "text/x-python",
      "name": "python",
      "nbconvert_exporter": "python",
      "pygments_lexer": "ipython3",
      "version": "3.9.6"
    },
    "orig_nbformat": 4
  },
  "nbformat": 4,
  "nbformat_minor": 0
}
